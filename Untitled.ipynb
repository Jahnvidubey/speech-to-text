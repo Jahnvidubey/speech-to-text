{
 "cells": [
  {
   "cell_type": "code",
   "execution_count": null,
   "id": "0ce56fa0-2775-49da-9a70-64e07e490e68",
   "metadata": {},
   "outputs": [],
   "source": [
    "import whisper\n",
    "\n",
    "model = whisper.load_model(\"base\")\n",
    "result = model.transcribe(\"Blicker-Wattp.wav\", fp16=False)\n",
    "print(result[\"text\"])"
   ]
  },
  {
   "cell_type": "code",
   "execution_count": null,
   "id": "cda015dc-e0fc-4216-ba35-99c0c7a43eed",
   "metadata": {},
   "outputs": [],
   "source": [
    "import os\n",
    "import whisper\n",
    "\n",
    "# Print the current working directory\n",
    "print(\"Current working directory:\", os.getcwd())\n",
    "\n",
    "# Set the file path\n",
    "file_path = \"Blicker-Wattp.wav\"\n",
    "\n",
    "# Verify if the file exists\n",
    "if not os.path.isfile(file_path):\n",
    "    raise FileNotFoundError(f\"The file {file_path} does not exist.\")\n",
    "\n",
    "# Load the model\n",
    "model = whisper.load_model(\"base\")\n",
    "\n",
    "# Transcribe the audio file\n",
    "result = model.transcribe(file_path, fp16=False)\n",
    "print(result[\"text\"])\n"
   ]
  },
  {
   "cell_type": "code",
   "execution_count": null,
   "id": "ccc0fa1e-7036-40d5-ab76-6e8e857653aa",
   "metadata": {},
   "outputs": [],
   "source": [
    "import numpy as np\n",
    "import librosa\n",
    "import whisper\n",
    "\n",
    "# Load your audio file into a numpy array\n",
    "audio_path = \"Blicker-Wattp.wav\"\n",
    "audio, sr = librosa.load(audio_path, sr=16000)\n",
    "\n",
    "# Load Whisper model\n",
    "model = whisper.load_model(\"base\")\n",
    "\n",
    "# Transcribe the audio numpy array directly\n",
    "result = model.transcribe(audio)\n",
    "print(result[\"text\"])\n"
   ]
  },
  {
   "cell_type": "code",
   "execution_count": null,
   "id": "72d29376-459d-4e99-85bd-dd81f5bfc180",
   "metadata": {},
   "outputs": [],
   "source": [
    "import numpy as np\n",
    "import librosa\n",
    "import whisper\n",
    "\n",
    "# Load your audio file into a numpy array\n",
    "audio_path = \"Blicker-Wattp.wav\"\n",
    "audio, sr = librosa.load(audio_path, sr=16000)\n",
    "\n",
    "# Load Whisper model\n",
    "model = whisper.load_model(\"base\")\n",
    "\n",
    "# Transcribe the audio numpy array directly\n",
    "result = model.transcribe(audio)\n",
    "print(result[\"text\"])\n"
   ]
  },
  {
   "cell_type": "code",
   "execution_count": null,
   "id": "61915278-8194-4fc2-be68-f19e216fed43",
   "metadata": {},
   "outputs": [],
   "source": [
    "import os\n",
    "import numpy as np\n",
    "import librosa\n",
    "import whisper\n",
    "\n",
    "# Function to transcribe a single file and save the result\n",
    "def transcribe_and_save(audio_path, model):\n",
    "    try:\n",
    "        # Load the audio file into a numpy array\n",
    "        audio, sr = librosa.load(audio_path, sr=16000)\n",
    "        \n",
    "        # Transcribe the audio\n",
    "        result = model.transcribe(audio)\n",
    "        \n",
    "        # Get the transcription text\n",
    "        transcription_text = result[\"text\"]\n",
    "        \n",
    "        # Create the output file path with .txt extension\n",
    "        output_path = os.path.splitext(audio_path)[0] + \".txt\"\n",
    "        \n",
    "        # Save the transcription to a text file\n",
    "        with open(output_path, \"w\", encoding=\"utf-8\") as f:\n",
    "            f.write(transcription_text)\n",
    "        \n",
    "        print(f\"Transcription saved to {output_path}\")\n",
    "    \n",
    "    except Exception as e:\n",
    "        print(f\"Error processing {audio_path}: {e}\")\n",
    "\n",
    "# Function to transcribe all audio files in a directory\n",
    "def transcribe_directory(directory_path):\n",
    "    # Load Whisper model\n",
    "    model = whisper.load_model(\"base\")\n",
    "    \n",
    "    # Iterate over all files in the directory\n",
    "    for filename in os.listdir(directory_path):\n",
    "        if filename.endswith(\".wav\"):  # You can add other audio formats if needed\n",
    "            audio_path = os.path.join(directory_path, filename)\n",
    "            transcribe_and_save(audio_path, model)\n",
    "\n",
    "# Specify the directory containing audio files\n",
    "directory_path = \"C:/Users/User/Speech_to_Text_Converter_main/data_wav\"\n",
    "\n",
    "# Transcribe all audio files in the specified directory\n",
    "transcribe_directory(directory_path)\n"
   ]
  },
  {
   "cell_type": "code",
   "execution_count": 1,
   "id": "ae5ebf8f-be55-4694-ad97-41340d5567be",
   "metadata": {},
   "outputs": [
    {
     "name": "stdout",
     "output_type": "stream",
     "text": [
      "5tQ7dB6Od_4hDnr7YQJrmLvPnIpYDrnhIQ33x0Df7AKSxr-3cBDeG6VFd5bda2Czhm4\n"
     ]
    }
   ],
   "source": [
    "import secrets\n",
    "print(secrets.token_urlsafe(50))\n"
   ]
  },
  {
   "cell_type": "code",
   "execution_count": null,
   "id": "5c5c197d-3feb-4dc8-ba13-881fdf1adad2",
   "metadata": {},
   "outputs": [],
   "source": []
  }
 ],
 "metadata": {
  "kernelspec": {
   "display_name": "Python 3 (ipykernel)",
   "language": "python",
   "name": "python3"
  },
  "language_info": {
   "codemirror_mode": {
    "name": "ipython",
    "version": 3
   },
   "file_extension": ".py",
   "mimetype": "text/x-python",
   "name": "python",
   "nbconvert_exporter": "python",
   "pygments_lexer": "ipython3",
   "version": "3.12.0"
  }
 },
 "nbformat": 4,
 "nbformat_minor": 5
}
