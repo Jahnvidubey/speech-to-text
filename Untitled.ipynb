{
 "cells": [
  {
   "cell_type": "code",
   "execution_count": null,
   "id": "0ce56fa0-2775-49da-9a70-64e07e490e68",
   "metadata": {},
   "outputs": [],
   "source": [
    "import whisper\n",
    "\n",
    "model = whisper.load_model(\"base\")\n",
    "result = model.transcribe(\"Blicker-Wattp.wav\", fp16=False)\n",
    "print(result[\"text\"])"
   ]
  },
  {
   "cell_type": "code",
   "execution_count": null,
   "id": "cda015dc-e0fc-4216-ba35-99c0c7a43eed",
   "metadata": {},
   "outputs": [],
   "source": [
    "import os\n",
    "import whisper\n",
    "\n",
    "# Print the current working directory\n",
    "print(\"Current working directory:\", os.getcwd())\n",
    "\n",
    "# Set the file path\n",
    "file_path = \"Blicker-Wattp.wav\"\n",
    "\n",
    "# Verify if the file exists\n",
    "if not os.path.isfile(file_path):\n",
    "    raise FileNotFoundError(f\"The file {file_path} does not exist.\")\n",
    "\n",
    "# Load the model\n",
    "model = whisper.load_model(\"base\")\n",
    "\n",
    "# Transcribe the audio file\n",
    "result = model.transcribe(file_path, fp16=False)\n",
    "print(result[\"text\"])\n"
   ]
  },
  {
   "cell_type": "code",
   "execution_count": 1,
   "id": "ccc0fa1e-7036-40d5-ab76-6e8e857653aa",
   "metadata": {},
   "outputs": [
    {
     "name": "stderr",
     "output_type": "stream",
     "text": [
      "C:\\Users\\User\\Speech_to_Text_Converter_main\\whisper_env\\Lib\\site-packages\\whisper\\transcribe.py:115: UserWarning: FP16 is not supported on CPU; using FP32 instead\n",
      "  warnings.warn(\"FP16 is not supported on CPU; using FP32 instead\")\n"
     ]
    },
    {
     "name": "stdout",
     "output_type": "stream",
     "text": [
      " to Dr. D. Wurr, number three six, you know, whether to start your D. Wurr at 369-86, clocked your doctor to sound 67589 regarding Maryland Taylor, data which are on your 22nd, 1947 after you were thanked for asking me to reassess this seven-year-old lady period which has been noted to have Wurr online copying and at times as excitedly all of the pressures, periods that cataract surging both eyes. The paragraph exam today, available to you 25, 14, 20, 20, or so in corrected period, fuel purge spawns is called frintational fields and extra ocular movements in normal periods. So, I'm going to post it to you in Berlin, this is pressure to 13 bilaterally and dilated exams with a cup of disc races, a point five, period optic nerve OCTs, there is normal and the right minimally suspicions on the lap that's on frintinal for time to paragraph assessment. I do not think this Taylor's active local, but this time period should be reasonable for her to be seen again in the go to year in that regard. Period to paragraphs with the continues and license vision following her cataract surgery period. Paragraph, thank you for asking your assessments Taylor. Period of yours sincerely.\n"
     ]
    }
   ],
   "source": [
    "import numpy as np\n",
    "import librosa\n",
    "import whisper\n",
    "\n",
    "# Load your audio file into a numpy array\n",
    "audio_path = \"Blicker-Wattp.wav\"\n",
    "audio, sr = librosa.load(audio_path, sr=16000)\n",
    "\n",
    "# Load Whisper model\n",
    "model = whisper.load_model(\"base\")\n",
    "\n",
    "# Transcribe the audio numpy array directly\n",
    "result = model.transcribe(audio)\n",
    "print(result[\"text\"])\n"
   ]
  },
  {
   "cell_type": "code",
   "execution_count": 2,
   "id": "72d29376-459d-4e99-85bd-dd81f5bfc180",
   "metadata": {},
   "outputs": [
    {
     "name": "stdout",
     "output_type": "stream",
     "text": [
      " to Dr. D. Wurr, number three six, you know, whether to start your D. Wurr at 369-86, clocked your doctor to sound 67589 regarding Maryland Taylor, data which are on your 22nd, 1947 after you were thanked for asking me to reassess this seven-year-old lady period which has been noted to have Wurr online copying and at times as excitedly all of the pressures, periods that cataract surging both eyes. The paragraph exam today, available to you 25, 14, 20, 20, or so in corrected period, fuel purge spawns is called frintational fields and extra ocular movements in normal periods. So, I'm going to post it to you in Berlin, this is pressure to 13 bilaterally and dilated exams with a cup of disc races, a point five, period optic nerve OCTs, there is normal and the right minimally suspicions on the lap that's on frintinal for time to paragraph assessment. I do not think this Taylor's active local, but this time period should be reasonable for her to be seen again in the go to year in that regard. Period to paragraphs with the continues and license vision following her cataract surgery period. Paragraph, thank you for asking your assessments Taylor. Period of yours sincerely.\n"
     ]
    }
   ],
   "source": [
    "import numpy as np\n",
    "import librosa\n",
    "import whisper\n",
    "\n",
    "# Load your audio file into a numpy array\n",
    "audio_path = \"Blicker-Wattp.wav\"\n",
    "audio, sr = librosa.load(audio_path, sr=16000)\n",
    "\n",
    "# Load Whisper model\n",
    "model = whisper.load_model(\"base\")\n",
    "\n",
    "# Transcribe the audio numpy array directly\n",
    "result = model.transcribe(audio)\n",
    "print(result[\"text\"])\n"
   ]
  },
  {
   "cell_type": "code",
   "execution_count": 3,
   "id": "61915278-8194-4fc2-be68-f19e216fed43",
   "metadata": {},
   "outputs": [
    {
     "name": "stdout",
     "output_type": "stream",
     "text": [
      "Transcription saved to C:/Users/User/Speech_to_Text_Converter_main/data_wav\\Blicker Jeffrey-20240419135200-59203737-Wattp.txt\n",
      "Transcription saved to C:/Users/User/Speech_to_Text_Converter_main/data_wav\\Blicker Jeffrey-20240419135500-59203738-gdmq4.txt\n",
      "Transcription saved to C:/Users/User/Speech_to_Text_Converter_main/data_wav\\Blicker Jeffrey-20240419135600-59203739-ZFiOQ.txt\n",
      "Transcription saved to C:/Users/User/Speech_to_Text_Converter_main/data_wav\\Blicker Jeffrey-20240419135800-59203740-P67o4.txt\n",
      "Transcription saved to C:/Users/User/Speech_to_Text_Converter_main/data_wav\\Blicker Jeffrey-20240419135900-59203741-ExVmV.txt\n",
      "Transcription saved to C:/Users/User/Speech_to_Text_Converter_main/data_wav\\Blicker Jeffrey-20240419140000-59203742-T2hyP.txt\n",
      "Transcription saved to C:/Users/User/Speech_to_Text_Converter_main/data_wav\\Blicker Jeffrey-20240419140200-59203743-EmC3V.txt\n",
      "Transcription saved to C:/Users/User/Speech_to_Text_Converter_main/data_wav\\Blicker Jeffrey-20240419140300-59203744-46uMT.txt\n",
      "Transcription saved to C:/Users/User/Speech_to_Text_Converter_main/data_wav\\Blicker Jeffrey-20240419140400-59203745-bOy0R.txt\n",
      "Transcription saved to C:/Users/User/Speech_to_Text_Converter_main/data_wav\\Blicker Jeffrey-20240419140600-59203746-1YXZv.txt\n",
      "Transcription saved to C:/Users/User/Speech_to_Text_Converter_main/data_wav\\Blicker Jeffrey-20240419140600-59203747-T6x6m.txt\n",
      "Transcription saved to C:/Users/User/Speech_to_Text_Converter_main/data_wav\\Blicker Jeffrey-20240419140800-59203748-uoUKY.txt\n",
      "Transcription saved to C:/Users/User/Speech_to_Text_Converter_main/data_wav\\Blicker Jeffrey-20240419140900-59203749-zBuW8.txt\n",
      "Transcription saved to C:/Users/User/Speech_to_Text_Converter_main/data_wav\\Blicker Jeffrey-20240419141100-59203751-FySjr.txt\n",
      "Transcription saved to C:/Users/User/Speech_to_Text_Converter_main/data_wav\\DS235361-CrRXU.txt\n",
      "Transcription saved to C:/Users/User/Speech_to_Text_Converter_main/data_wav\\DS235362-AFYf6.txt\n",
      "Transcription saved to C:/Users/User/Speech_to_Text_Converter_main/data_wav\\DS235363-ZvbE6.txt\n",
      "Transcription saved to C:/Users/User/Speech_to_Text_Converter_main/data_wav\\DS235365-ozalZ.txt\n",
      "Transcription saved to C:/Users/User/Speech_to_Text_Converter_main/data_wav\\Sajjady Golmehr-20240419121000-59203684-JJIWa.txt\n",
      "Transcription saved to C:/Users/User/Speech_to_Text_Converter_main/data_wav\\Sajjady Golmehr-20240419122600-59203685-YncDF.txt\n",
      "Transcription saved to C:/Users/User/Speech_to_Text_Converter_main/data_wav\\Sajjady Golmehr-20240419124900-59203686-ODu10.txt\n",
      "Transcription saved to C:/Users/User/Speech_to_Text_Converter_main/data_wav\\Sajjady Golmehr-20240419132500-59203687-FO0AU.txt\n",
      "Transcription saved to C:/Users/User/Speech_to_Text_Converter_main/data_wav\\Sajjady Golmehr-20240419134700-59203688-wWSsS.txt\n",
      "Transcription saved to C:/Users/User/Speech_to_Text_Converter_main/data_wav\\Sajjady Golmehr-20240419143000-59203689-msIjp.txt\n",
      "Transcription saved to C:/Users/User/Speech_to_Text_Converter_main/data_wav\\Sajjady Golmehr-20240419144500-59203690-zjiQc.txt\n",
      "Transcription saved to C:/Users/User/Speech_to_Text_Converter_main/data_wav\\Sajjady Golmehr-20240419151400-59203691-92Efw.txt\n",
      "Transcription saved to C:/Users/User/Speech_to_Text_Converter_main/data_wav\\Sajjady Golmehr-20240419160400-59203692-A4XqG.txt\n",
      "Transcription saved to C:/Users/User/Speech_to_Text_Converter_main/data_wav\\Sajjady Golmehr-20240419160600-59203693-UaFXP.txt\n",
      "Transcription saved to C:/Users/User/Speech_to_Text_Converter_main/data_wav\\Sajjady Golmehr-20240419162300-59203694-FZ1fU.txt\n",
      "Transcription saved to C:/Users/User/Speech_to_Text_Converter_main/data_wav\\Sajjady Golmehr-20240419164500-59203695-NlVba.txt\n",
      "Transcription saved to C:/Users/User/Speech_to_Text_Converter_main/data_wav\\Sajjady Golmehr-20240419170400-59203696-mW3FJ.txt\n",
      "Transcription saved to C:/Users/User/Speech_to_Text_Converter_main/data_wav\\Sajjady Golmehr-20240419172600-59203697-Jujma.txt\n",
      "Transcription saved to C:/Users/User/Speech_to_Text_Converter_main/data_wav\\Sajjady Golmehr-20240419174200-59203698-miklA.txt\n",
      "Transcription saved to C:/Users/User/Speech_to_Text_Converter_main/data_wav\\Sajjady Golmehr-20240419181500-59203699-tFcGM.txt\n",
      "Transcription saved to C:/Users/User/Speech_to_Text_Converter_main/data_wav\\Sajjady Golmehr-20240419181600-59203700-79vkL.txt\n",
      "Transcription saved to C:/Users/User/Speech_to_Text_Converter_main/data_wav\\Sajjady Golmehr-20240419183400-59203701-tcnYU.txt\n",
      "Transcription saved to C:/Users/User/Speech_to_Text_Converter_main/data_wav\\Sajjady Golmehr-20240419190200-59203702-jm1PS.txt\n",
      "Transcription saved to C:/Users/User/Speech_to_Text_Converter_main/data_wav\\Sajjady Golmehr-20240419191300-59203703-p7oVz.txt\n"
     ]
    }
   ],
   "source": [
    "import os\n",
    "import numpy as np\n",
    "import librosa\n",
    "import whisper\n",
    "\n",
    "# Function to transcribe a single file and save the result\n",
    "def transcribe_and_save(audio_path, model):\n",
    "    try:\n",
    "        # Load the audio file into a numpy array\n",
    "        audio, sr = librosa.load(audio_path, sr=16000)\n",
    "        \n",
    "        # Transcribe the audio\n",
    "        result = model.transcribe(audio)\n",
    "        \n",
    "        # Get the transcription text\n",
    "        transcription_text = result[\"text\"]\n",
    "        \n",
    "        # Create the output file path with .txt extension\n",
    "        output_path = os.path.splitext(audio_path)[0] + \".txt\"\n",
    "        \n",
    "        # Save the transcription to a text file\n",
    "        with open(output_path, \"w\", encoding=\"utf-8\") as f:\n",
    "            f.write(transcription_text)\n",
    "        \n",
    "        print(f\"Transcription saved to {output_path}\")\n",
    "    \n",
    "    except Exception as e:\n",
    "        print(f\"Error processing {audio_path}: {e}\")\n",
    "\n",
    "# Function to transcribe all audio files in a directory\n",
    "def transcribe_directory(directory_path):\n",
    "    # Load Whisper model\n",
    "    model = whisper.load_model(\"base\")\n",
    "    \n",
    "    # Iterate over all files in the directory\n",
    "    for filename in os.listdir(directory_path):\n",
    "        if filename.endswith(\".wav\"):  # You can add other audio formats if needed\n",
    "            audio_path = os.path.join(directory_path, filename)\n",
    "            transcribe_and_save(audio_path, model)\n",
    "\n",
    "# Specify the directory containing audio files\n",
    "directory_path = \"C:/Users/User/Speech_to_Text_Converter_main/data_wav\"\n",
    "\n",
    "# Transcribe all audio files in the specified directory\n",
    "transcribe_directory(directory_path)\n"
   ]
  },
  {
   "cell_type": "code",
   "execution_count": null,
   "id": "ae5ebf8f-be55-4694-ad97-41340d5567be",
   "metadata": {},
   "outputs": [],
   "source": []
  }
 ],
 "metadata": {
  "kernelspec": {
   "display_name": "Python 3 (ipykernel)",
   "language": "python",
   "name": "python3"
  },
  "language_info": {
   "codemirror_mode": {
    "name": "ipython",
    "version": 3
   },
   "file_extension": ".py",
   "mimetype": "text/x-python",
   "name": "python",
   "nbconvert_exporter": "python",
   "pygments_lexer": "ipython3",
   "version": "3.12.0"
  }
 },
 "nbformat": 4,
 "nbformat_minor": 5
}
